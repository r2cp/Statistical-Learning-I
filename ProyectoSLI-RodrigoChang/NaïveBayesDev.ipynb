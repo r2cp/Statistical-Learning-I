{
 "cells": [
  {
   "cell_type": "code",
   "execution_count": 321,
   "metadata": {},
   "outputs": [],
   "source": [
    "import pandas as pd\n",
    "import matplotlib.pyplot as plt\n",
    "import numpy as np"
   ]
  },
  {
   "cell_type": "code",
   "execution_count": 4,
   "metadata": {},
   "outputs": [
    {
     "data": {
      "text/html": [
       "<div>\n",
       "<style scoped>\n",
       "    .dataframe tbody tr th:only-of-type {\n",
       "        vertical-align: middle;\n",
       "    }\n",
       "\n",
       "    .dataframe tbody tr th {\n",
       "        vertical-align: top;\n",
       "    }\n",
       "\n",
       "    .dataframe thead th {\n",
       "        text-align: right;\n",
       "    }\n",
       "</style>\n",
       "<table border=\"1\" class=\"dataframe\">\n",
       "  <thead>\n",
       "    <tr style=\"text-align: right;\">\n",
       "      <th></th>\n",
       "      <th>Age</th>\n",
       "      <th>SibSp</th>\n",
       "      <th>Parch</th>\n",
       "      <th>Fare</th>\n",
       "      <th>Female</th>\n",
       "      <th>Embarked_S</th>\n",
       "      <th>Embarked_C</th>\n",
       "      <th>Embarked_Q</th>\n",
       "      <th>Class_Lower</th>\n",
       "      <th>Class_Middle</th>\n",
       "      <th>Class_Upper</th>\n",
       "      <th>Survived</th>\n",
       "    </tr>\n",
       "  </thead>\n",
       "  <tbody>\n",
       "    <tr>\n",
       "      <th>0</th>\n",
       "      <td>22.0</td>\n",
       "      <td>1</td>\n",
       "      <td>0</td>\n",
       "      <td>7.2500</td>\n",
       "      <td>0.0</td>\n",
       "      <td>1.0</td>\n",
       "      <td>0.0</td>\n",
       "      <td>0.0</td>\n",
       "      <td>1.0</td>\n",
       "      <td>0.0</td>\n",
       "      <td>0.0</td>\n",
       "      <td>0.0</td>\n",
       "    </tr>\n",
       "    <tr>\n",
       "      <th>1</th>\n",
       "      <td>38.0</td>\n",
       "      <td>1</td>\n",
       "      <td>0</td>\n",
       "      <td>71.2833</td>\n",
       "      <td>1.0</td>\n",
       "      <td>0.0</td>\n",
       "      <td>1.0</td>\n",
       "      <td>0.0</td>\n",
       "      <td>0.0</td>\n",
       "      <td>0.0</td>\n",
       "      <td>1.0</td>\n",
       "      <td>1.0</td>\n",
       "    </tr>\n",
       "    <tr>\n",
       "      <th>2</th>\n",
       "      <td>26.0</td>\n",
       "      <td>0</td>\n",
       "      <td>0</td>\n",
       "      <td>7.9250</td>\n",
       "      <td>1.0</td>\n",
       "      <td>1.0</td>\n",
       "      <td>0.0</td>\n",
       "      <td>0.0</td>\n",
       "      <td>1.0</td>\n",
       "      <td>0.0</td>\n",
       "      <td>0.0</td>\n",
       "      <td>1.0</td>\n",
       "    </tr>\n",
       "    <tr>\n",
       "      <th>3</th>\n",
       "      <td>35.0</td>\n",
       "      <td>1</td>\n",
       "      <td>0</td>\n",
       "      <td>53.1000</td>\n",
       "      <td>1.0</td>\n",
       "      <td>1.0</td>\n",
       "      <td>0.0</td>\n",
       "      <td>0.0</td>\n",
       "      <td>0.0</td>\n",
       "      <td>0.0</td>\n",
       "      <td>1.0</td>\n",
       "      <td>1.0</td>\n",
       "    </tr>\n",
       "    <tr>\n",
       "      <th>4</th>\n",
       "      <td>35.0</td>\n",
       "      <td>0</td>\n",
       "      <td>0</td>\n",
       "      <td>8.0500</td>\n",
       "      <td>0.0</td>\n",
       "      <td>1.0</td>\n",
       "      <td>0.0</td>\n",
       "      <td>0.0</td>\n",
       "      <td>1.0</td>\n",
       "      <td>0.0</td>\n",
       "      <td>0.0</td>\n",
       "      <td>0.0</td>\n",
       "    </tr>\n",
       "  </tbody>\n",
       "</table>\n",
       "</div>"
      ],
      "text/plain": [
       "    Age  SibSp  Parch     Fare  Female  Embarked_S  Embarked_C  Embarked_Q  \\\n",
       "0  22.0      1      0   7.2500     0.0         1.0         0.0         0.0   \n",
       "1  38.0      1      0  71.2833     1.0         0.0         1.0         0.0   \n",
       "2  26.0      0      0   7.9250     1.0         1.0         0.0         0.0   \n",
       "3  35.0      1      0  53.1000     1.0         1.0         0.0         0.0   \n",
       "4  35.0      0      0   8.0500     0.0         1.0         0.0         0.0   \n",
       "\n",
       "   Class_Lower  Class_Middle  Class_Upper  Survived  \n",
       "0          1.0           0.0          0.0       0.0  \n",
       "1          0.0           0.0          1.0       1.0  \n",
       "2          1.0           0.0          0.0       1.0  \n",
       "3          0.0           0.0          1.0       1.0  \n",
       "4          1.0           0.0          0.0       0.0  "
      ]
     },
     "execution_count": 4,
     "metadata": {},
     "output_type": "execute_result"
    }
   ],
   "source": [
    "Titanic = pd.read_csv(\"TitanicProcessed.csv\")\n",
    "\n",
    "DataFields = [\"Age\", \"SibSp\", \"Parch\", \"Fare\", \"Female\", \n",
    "             \"Embarked_S\", \"Embarked_C\", \"Embarked_Q\", \n",
    "             \"Class_Lower\", \"Class_Middle\", \"Class_Upper\", \"Survived\"]\n",
    "\n",
    "Titanic[DataFields].head()"
   ]
  },
  {
   "cell_type": "code",
   "execution_count": 9,
   "metadata": {},
   "outputs": [
    {
     "data": {
      "text/plain": [
       "array(['Unnamed: 0', 'Age', 'SibSp', 'Parch', 'Fare', 'Female',\n",
       "       'Embarked_S', 'Embarked_C', 'Embarked_Q', 'Class_Lower',\n",
       "       'Class_Middle', 'Class_Upper', 'Survived'], dtype=object)"
      ]
     },
     "execution_count": 9,
     "metadata": {},
     "output_type": "execute_result"
    }
   ],
   "source": [
    "Titanic.columns.values"
   ]
  },
  {
   "cell_type": "code",
   "execution_count": 10,
   "metadata": {},
   "outputs": [
    {
     "data": {
      "text/plain": [
       "891"
      ]
     },
     "execution_count": 10,
     "metadata": {},
     "output_type": "execute_result"
    }
   ],
   "source": [
    "len(Titanic)"
   ]
  },
  {
   "cell_type": "code",
   "execution_count": 15,
   "metadata": {},
   "outputs": [
    {
     "data": {
      "text/plain": [
       "0.0    549\n",
       "1.0    342\n",
       "Name: Survived, dtype: int64"
      ]
     },
     "execution_count": 15,
     "metadata": {},
     "output_type": "execute_result"
    }
   ],
   "source": [
    "Titanic[\"Survived\"].value_counts()"
   ]
  },
  {
   "cell_type": "code",
   "execution_count": 16,
   "metadata": {},
   "outputs": [
    {
     "data": {
      "text/plain": [
       "2"
      ]
     },
     "execution_count": 16,
     "metadata": {},
     "output_type": "execute_result"
    }
   ],
   "source": [
    "len(Titanic[\"Survived\"].value_counts())"
   ]
  },
  {
   "cell_type": "code",
   "execution_count": 17,
   "metadata": {},
   "outputs": [
    {
     "data": {
      "text/plain": [
       "2"
      ]
     },
     "execution_count": 17,
     "metadata": {},
     "output_type": "execute_result"
    }
   ],
   "source": [
    "Titanic[\"Survived\"].nunique()"
   ]
  },
  {
   "cell_type": "code",
   "execution_count": 21,
   "metadata": {},
   "outputs": [
    {
     "data": {
      "text/plain": [
       "0.3838383838383838"
      ]
     },
     "execution_count": 21,
     "metadata": {},
     "output_type": "execute_result"
    }
   ],
   "source": [
    "len(Titanic[Titanic.Survived == 1]) / len(Titanic)"
   ]
  },
  {
   "cell_type": "code",
   "execution_count": null,
   "metadata": {},
   "outputs": [],
   "source": []
  },
  {
   "cell_type": "code",
   "execution_count": null,
   "metadata": {},
   "outputs": [],
   "source": []
  },
  {
   "cell_type": "markdown",
   "metadata": {},
   "source": [
    "***\n",
    "# NB frequentist development\n"
   ]
  },
  {
   "cell_type": "code",
   "execution_count": 29,
   "metadata": {},
   "outputs": [
    {
     "data": {
      "image/png": "[encoded data removed]",
      "text/plain": [
       "<Figure size 432x288 with 1 Axes>"
      ]
     },
     "metadata": {
      "needs_background": "light"
     },
     "output_type": "display_data"
    }
   ],
   "source": [
    "Titanic[\"Age\"].plot.hist()\n",
    "plt.show()"
   ]
  },
  {
   "cell_type": "markdown",
   "metadata": {},
   "source": [
    "## Probabilidad de feature"
   ]
  },
  {
   "cell_type": "code",
   "execution_count": 205,
   "metadata": {},
   "outputs": [
    {
     "data": {
      "text/plain": [
       "(20.0, 28.0]     360\n",
       "(0.419, 20.0]    179\n",
       "(38.0, 80.0]     177\n",
       "(28.0, 38.0]     175\n",
       "Name: Age, dtype: int64"
      ]
     },
     "execution_count": 205,
     "metadata": {},
     "output_type": "execute_result"
    }
   ],
   "source": [
    "# Obtener las categorías para f1\n",
    "f1, bins_f1 = pd.qcut(Titanic[\"Age\"], 5, retbins=True, duplicates='drop')\n",
    "\n",
    "f1.value_counts()"
   ]
  },
  {
   "cell_type": "code",
   "execution_count": 206,
   "metadata": {},
   "outputs": [
    {
     "data": {
      "text/plain": [
       "array([ 0.42, 20.  , 28.  , 38.  , 80.  ])"
      ]
     },
     "execution_count": 206,
     "metadata": {},
     "output_type": "execute_result"
    }
   ],
   "source": [
    "bins_f1"
   ]
  },
  {
   "cell_type": "code",
   "execution_count": 207,
   "metadata": {},
   "outputs": [
    {
     "data": {
      "text/plain": [
       "891"
      ]
     },
     "execution_count": 207,
     "metadata": {},
     "output_type": "execute_result"
    }
   ],
   "source": [
    "len(f1)"
   ]
  },
  {
   "cell_type": "code",
   "execution_count": 208,
   "metadata": {},
   "outputs": [
    {
     "data": {
      "text/plain": [
       "0.1122334455667789"
      ]
     },
     "execution_count": 208,
     "metadata": {},
     "output_type": "execute_result"
    }
   ],
   "source": [
    "100 / len(f1)"
   ]
  },
  {
   "cell_type": "code",
   "execution_count": 330,
   "metadata": {},
   "outputs": [
    {
     "data": {
      "text/plain": [
       "[(0.42, 20.0], (38.0, 80.0]]\n",
       "Categories (4, interval[float64]): [(0.42, 20.0] < (20.0, 28.0] < (28.0, 38.0] < (38.0, 80.0]]"
      ]
     },
     "execution_count": 330,
     "metadata": {},
     "output_type": "execute_result"
    }
   ],
   "source": [
    "rango = pd.cut(np.array([16, 40]), bins = bins_f1)\n",
    "rango"
   ]
  },
  {
   "cell_type": "code",
   "execution_count": 346,
   "metadata": {},
   "outputs": [
    {
     "data": {
      "text/plain": [
       "(0.42, 20.0]    0.236842\n",
       "(38.0, 80.0]    0.192982\n",
       "Name: Age, dtype: float64"
      ]
     },
     "execution_count": 346,
     "metadata": {},
     "output_type": "execute_result"
    }
   ],
   "source": [
    "f1.value_counts()[rango] / len(f1)"
   ]
  },
  {
   "cell_type": "code",
   "execution_count": 333,
   "metadata": {},
   "outputs": [
    {
     "data": {
      "text/plain": [
       "array([0.23684211, 0.19298246])"
      ]
     },
     "execution_count": 333,
     "metadata": {},
     "output_type": "execute_result"
    }
   ],
   "source": [
    "(f1.value_counts()[rango] / len(f1)).values"
   ]
  },
  {
   "cell_type": "code",
   "execution_count": 212,
   "metadata": {},
   "outputs": [
    {
     "data": {
      "text/plain": [
       "False"
      ]
     },
     "execution_count": 212,
     "metadata": {},
     "output_type": "execute_result"
    }
   ],
   "source": [
    "rango.isnull()[0]"
   ]
  },
  {
   "cell_type": "code",
   "execution_count": 334,
   "metadata": {},
   "outputs": [],
   "source": [
    "# Probabilidad de una pdFeature = x\n",
    "def probFeature(pdDataFrame, featureName, x, qsize):\n",
    "    # Obtener las categorías de pdFeature y los bins \n",
    "    f, bins_f = pd.qcut(pdDataFrame[featureName], qsize, retbins=True, duplicates='drop')\n",
    "    #print(f.value_counts())\n",
    "    # Obtener el rango para el valor x\n",
    "    rango = pd.cut(x, bins = bins_f)\n",
    "    \n",
    "    # Obtener la prob. de que x esté en un rango de f \n",
    "    if rango.isnull().any():\n",
    "        return 0, bins_f\n",
    "    \n",
    "    return (f.value_counts()[rango] / len(f)).values, bins_f"
   ]
  },
  {
   "cell_type": "code",
   "execution_count": 335,
   "metadata": {},
   "outputs": [
    {
     "data": {
      "text/plain": [
       "(array([0.20089787, 0.1986532 ]), array([ 0.42, 20.  , 28.  , 38.  , 80.  ]))"
      ]
     },
     "execution_count": 335,
     "metadata": {},
     "output_type": "execute_result"
    }
   ],
   "source": [
    "p, binsAge = probFeature(Titanic, \"Age\", [16, 40], 5)\n",
    "p, binsAge"
   ]
  },
  {
   "cell_type": "markdown",
   "metadata": {},
   "source": [
    "## Probabilidad de feature dado el valor de una clase"
   ]
  },
  {
   "cell_type": "code",
   "execution_count": 229,
   "metadata": {},
   "outputs": [
    {
     "data": {
      "text/plain": [
       "(20.0, 28.0]    118\n",
       "(0.42, 20.0]     81\n",
       "(28.0, 38.0]     76\n",
       "(38.0, 80.0]     66\n",
       "Name: Age, dtype: int64"
      ]
     },
     "execution_count": 229,
     "metadata": {},
     "output_type": "execute_result"
    }
   ],
   "source": [
    "# Obtener las categorías para f1\n",
    "f1 = pd.cut(Titanic.loc[Titanic[\"Survived\"] == 1. , \"Age\"], bins = bins_f1)\n",
    "f1.value_counts()"
   ]
  },
  {
   "cell_type": "code",
   "execution_count": 230,
   "metadata": {},
   "outputs": [
    {
     "data": {
      "text/plain": [
       "342"
      ]
     },
     "execution_count": 230,
     "metadata": {},
     "output_type": "execute_result"
    }
   ],
   "source": [
    "len(f1)"
   ]
  },
  {
   "cell_type": "code",
   "execution_count": 232,
   "metadata": {},
   "outputs": [
    {
     "data": {
      "text/plain": [
       "0.23684210526315788"
      ]
     },
     "execution_count": 232,
     "metadata": {},
     "output_type": "execute_result"
    }
   ],
   "source": [
    "81 / len(f1)"
   ]
  },
  {
   "cell_type": "code",
   "execution_count": 233,
   "metadata": {},
   "outputs": [
    {
     "data": {
      "text/plain": [
       "[(0.42, 20.0]]\n",
       "Categories (4, interval[float64]): [(0.42, 20.0] < (20.0, 28.0] < (28.0, 38.0] < (38.0, 80.0]]"
      ]
     },
     "execution_count": 233,
     "metadata": {},
     "output_type": "execute_result"
    }
   ],
   "source": [
    "rango = pd.cut([16], bins = bins_f1)\n",
    "rango"
   ]
  },
  {
   "cell_type": "code",
   "execution_count": 234,
   "metadata": {},
   "outputs": [
    {
     "data": {
      "text/plain": [
       "(0.42, 20.0]    0.236842\n",
       "Name: Age, dtype: float64"
      ]
     },
     "execution_count": 234,
     "metadata": {},
     "output_type": "execute_result"
    }
   ],
   "source": [
    "f1.value_counts()[rango] / len(f1)"
   ]
  },
  {
   "cell_type": "code",
   "execution_count": 235,
   "metadata": {},
   "outputs": [
    {
     "data": {
      "text/plain": [
       "0.23684210526315788"
      ]
     },
     "execution_count": 235,
     "metadata": {},
     "output_type": "execute_result"
    }
   ],
   "source": [
    "(f1.value_counts()[rango] / len(f1))[0]"
   ]
  },
  {
   "cell_type": "code",
   "execution_count": 337,
   "metadata": {},
   "outputs": [
    {
     "data": {
      "text/plain": [
       "10"
      ]
     },
     "execution_count": 337,
     "metadata": {},
     "output_type": "execute_result"
    }
   ],
   "source": [
    "len(np.zeros(10))"
   ]
  },
  {
   "cell_type": "code",
   "execution_count": 492,
   "metadata": {},
   "outputs": [],
   "source": [
    "# Probabilidad de una pdFeature = x, dado un valor de Class = label\n",
    "def probFeatureDadoLabel(pdDataFrame, featureName, x, className, label, bins_f):\n",
    "    # Obtener las categorías de pdFeature y los bins \n",
    "    f = pd.cut(pdDataFrame.loc[pdDataFrame[className] == label , featureName], \n",
    "               bins = bins_f, include_lowest=True)\n",
    "    # Obtener el rango para el valor x\n",
    "    rango = pd.cut(x, bins = bins_f, include_lowest=True)\n",
    "    \n",
    "    # Obtener la prob. de que x esté en un rango de f \n",
    "    if rango.isnull().any():\n",
    "        return np.zeros(len(x))\n",
    "    \n",
    "    return (f.value_counts()[rango] / len(f)).values"
   ]
  },
  {
   "cell_type": "code",
   "execution_count": 351,
   "metadata": {},
   "outputs": [
    {
     "data": {
      "text/plain": [
       "array([0.23684211, 0.19298246])"
      ]
     },
     "execution_count": 351,
     "metadata": {},
     "output_type": "execute_result"
    }
   ],
   "source": [
    "probFeatureDadoLabel(Titanic, \"Age\", [16, 40], \"Survived\", 1, binsAge)"
   ]
  },
  {
   "cell_type": "markdown",
   "metadata": {},
   "source": [
    "***\n",
    "## Probabilidad de una clase"
   ]
  },
  {
   "cell_type": "code",
   "execution_count": 245,
   "metadata": {},
   "outputs": [
    {
     "data": {
      "text/plain": [
       "342"
      ]
     },
     "execution_count": 245,
     "metadata": {},
     "output_type": "execute_result"
    }
   ],
   "source": [
    "Titanic.loc[Titanic[\"Survived\"] == 1, \"Survived\"].count()"
   ]
  },
  {
   "cell_type": "code",
   "execution_count": 246,
   "metadata": {},
   "outputs": [
    {
     "data": {
      "text/plain": [
       "0.3838383838383838"
      ]
     },
     "execution_count": 246,
     "metadata": {},
     "output_type": "execute_result"
    }
   ],
   "source": [
    "Titanic.loc[Titanic[\"Survived\"] == 1, \"Survived\"].count() / len(Titanic)"
   ]
  },
  {
   "cell_type": "code",
   "execution_count": 247,
   "metadata": {},
   "outputs": [],
   "source": [
    "# Para obtener la probabilidad de una clas sobre el dataframe entero\n",
    "def probLabel(pdDataFrame, className, label):\n",
    "    p = pdDataFrame.loc[pdDataFrame[className] == label, className].count() / len(pdDataFrame)\n",
    "    return p"
   ]
  },
  {
   "cell_type": "code",
   "execution_count": 248,
   "metadata": {},
   "outputs": [
    {
     "data": {
      "text/plain": [
       "0.3838383838383838"
      ]
     },
     "execution_count": 248,
     "metadata": {},
     "output_type": "execute_result"
    }
   ],
   "source": [
    "probLabel(Titanic, \"Survived\", 1)"
   ]
  },
  {
   "cell_type": "code",
   "execution_count": 249,
   "metadata": {},
   "outputs": [
    {
     "data": {
      "text/plain": [
       "0.6161616161616161"
      ]
     },
     "execution_count": 249,
     "metadata": {},
     "output_type": "execute_result"
    }
   ],
   "source": [
    "probLabel(Titanic, \"Survived\", 0)"
   ]
  },
  {
   "cell_type": "code",
   "execution_count": 250,
   "metadata": {},
   "outputs": [
    {
     "data": {
      "text/plain": [
       "1.0"
      ]
     },
     "execution_count": 250,
     "metadata": {},
     "output_type": "execute_result"
    }
   ],
   "source": [
    "probLabel(Titanic, \"Survived\", 0) + probLabel(Titanic, \"Survived\", 1)"
   ]
  },
  {
   "cell_type": "code",
   "execution_count": 266,
   "metadata": {},
   "outputs": [
    {
     "data": {
      "text/plain": [
       "0.35241301907968575"
      ]
     },
     "execution_count": 266,
     "metadata": {},
     "output_type": "execute_result"
    }
   ],
   "source": [
    "probLabel(Titanic, \"Female\", 1)"
   ]
  },
  {
   "cell_type": "markdown",
   "metadata": {},
   "source": [
    "***\n",
    "## Probabilidad condicional"
   ]
  },
  {
   "cell_type": "code",
   "execution_count": 263,
   "metadata": {},
   "outputs": [
    {
     "data": {
      "text/plain": [
       "0.4525139664804469"
      ]
     },
     "execution_count": 263,
     "metadata": {},
     "output_type": "execute_result"
    }
   ],
   "source": [
    "age = 16\n",
    "survived = 1\n",
    "\n",
    "pFeature, binsAge = probFeature(Titanic, \"Age\", age, 5)\n",
    "pGiven = probFeatureDadoLabel(Titanic, \"Age\", age, \"Survived\", survived, binsAge)\n",
    "pSurvived = probLabel(Titanic, \"Survived\", survived)\n",
    "\n",
    "pGiven * pSurvived / pFeature"
   ]
  },
  {
   "cell_type": "markdown",
   "metadata": {},
   "source": [
    "*** \n",
    "## Probabilidad de un label de una clase, dado el label de otra"
   ]
  },
  {
   "cell_type": "code",
   "execution_count": 352,
   "metadata": {},
   "outputs": [
    {
     "data": {
      "text/plain": [
       "233"
      ]
     },
     "execution_count": 352,
     "metadata": {},
     "output_type": "execute_result"
    }
   ],
   "source": [
    "Titanic.loc[(Titanic[\"Female\"] == 1) & (Titanic[\"Survived\"] == 1), \"Female\"].count()"
   ]
  },
  {
   "cell_type": "code",
   "execution_count": 353,
   "metadata": {},
   "outputs": [
    {
     "data": {
      "text/plain": [
       "342"
      ]
     },
     "execution_count": 353,
     "metadata": {},
     "output_type": "execute_result"
    }
   ],
   "source": [
    "Titanic.loc[(Titanic[\"Survived\"] == 1), \"Female\"].count()"
   ]
  },
  {
   "cell_type": "code",
   "execution_count": 354,
   "metadata": {},
   "outputs": [
    {
     "data": {
      "text/plain": [
       "0.6812865497076024"
      ]
     },
     "execution_count": 354,
     "metadata": {},
     "output_type": "execute_result"
    }
   ],
   "source": [
    "Titanic.loc[(Titanic[\"Survived\"] == 1) & (Titanic[\"Female\"] == 1), \"Female\"].count() / Titanic.loc[(Titanic[\"Survived\"] == 1), \"Female\"].count()"
   ]
  },
  {
   "cell_type": "code",
   "execution_count": 296,
   "metadata": {},
   "outputs": [],
   "source": [
    "# Probabilidad de una pdFeature = x, dado un valor de Class = label\n",
    "def probLabelDadoLabel(pdDataFrame, featureName, x, className, label):\n",
    "    # Probabilidad de la clase\n",
    "    pClass = pdDataFrame.loc[(pdDataFrame[className] == label), featureName].count()\n",
    "    # Probabilidad de la clase y del label\n",
    "    pInt = pdDataFrame.loc[(pdDataFrame[className] == label)&(pdDataFrame[featureName] == x), featureName].count()\n",
    "    \n",
    "    return pInt / pClass"
   ]
  },
  {
   "cell_type": "code",
   "execution_count": 368,
   "metadata": {},
   "outputs": [],
   "source": [
    "# Probabilidad de una pdFeature = x, dado un valor de Class = label\n",
    "def probLabelDadoLabel(pdDataFrame, featureName, x, className, label):\n",
    "    # Probabilidad de la clase\n",
    "    pClass = pdDataFrame.loc[(pdDataFrame[className] == label), featureName].count()\n",
    "    # Probabilidad de la clase y del label\n",
    "    pInt = pdDataFrame.loc[(pdDataFrame[className] == label)&(pdDataFrame[featureName] == 1), featureName].count()\n",
    "    \n",
    "    pLabel = pInt/pClass\n",
    "    pNotLabel = 1. - pLabel\n",
    "    prob = np.array([pNotLabel, pLabel])\n",
    "    \n",
    "    return prob[x.astype(int)]"
   ]
  },
  {
   "cell_type": "code",
   "execution_count": 299,
   "metadata": {},
   "outputs": [
    {
     "data": {
      "text/plain": [
       "0.6812865497076024"
      ]
     },
     "execution_count": 299,
     "metadata": {},
     "output_type": "execute_result"
    }
   ],
   "source": [
    "probLabelDadoLabel(Titanic, \"Female\", 1, \"Survived\", 1)"
   ]
  },
  {
   "cell_type": "code",
   "execution_count": 366,
   "metadata": {},
   "outputs": [],
   "source": [
    "a = np.array([0.3, 0.7])\n",
    "b = np.array([0., 1., 1., 0]).astype(int)"
   ]
  },
  {
   "cell_type": "code",
   "execution_count": 367,
   "metadata": {},
   "outputs": [
    {
     "data": {
      "text/plain": [
       "array([0.3, 0.7, 0.7, 0.3])"
      ]
     },
     "execution_count": 367,
     "metadata": {},
     "output_type": "execute_result"
    }
   ],
   "source": [
    "a[b]"
   ]
  },
  {
   "cell_type": "code",
   "execution_count": 369,
   "metadata": {},
   "outputs": [
    {
     "data": {
      "text/plain": [
       "array([0.31871345, 0.68128655, 0.68128655, 0.31871345])"
      ]
     },
     "execution_count": 369,
     "metadata": {},
     "output_type": "execute_result"
    }
   ],
   "source": [
    "probLabelDadoLabel(Titanic, \"Female\", np.array([0., 1., 1., 0.]), \"Survived\", 1)"
   ]
  },
  {
   "cell_type": "code",
   "execution_count": 302,
   "metadata": {},
   "outputs": [
    {
     "data": {
      "text/plain": [
       "1.0"
      ]
     },
     "execution_count": 302,
     "metadata": {},
     "output_type": "execute_result"
    }
   ],
   "source": [
    "probLabelDadoLabel(Titanic, \"Female\", 1, \"Survived\", 1) + probLabelDadoLabel(Titanic, \"Female\", 0, \"Survived\", 1)"
   ]
  },
  {
   "cell_type": "markdown",
   "metadata": {},
   "source": [
    "***\n",
    "# Modelo de Naïve Bayes para datos del Titanic\n",
    "\"Age\", \"Fare\", \"Female\", \"Embarked_S\", \"Embarked_C\", \"Embarked_Q\", \"Class_Lower\", \"Class_Middle\", \"Class_Upper\", \"Survived\""
   ]
  },
  {
   "cell_type": "code",
   "execution_count": 404,
   "metadata": {},
   "outputs": [
    {
     "data": {
      "text/plain": [
       "array([22., 38., 26., 35., 35.])"
      ]
     },
     "execution_count": 404,
     "metadata": {},
     "output_type": "execute_result"
    }
   ],
   "source": [
    "Titanic.Age.head().values"
   ]
  },
  {
   "cell_type": "code",
   "execution_count": 406,
   "metadata": {},
   "outputs": [
    {
     "data": {
      "text/plain": [
       "array([0.34502924, 0.22222222, 0.34502924, 0.22222222, 0.22222222])"
      ]
     },
     "execution_count": 406,
     "metadata": {},
     "output_type": "execute_result"
    }
   ],
   "source": [
    "survived = 1\n",
    "age = Titanic.Age.head().values\n",
    "fare = Titanic.Fare.head().values\n",
    "female = Titanic.Female.head().values\n",
    "\n",
    "_, binsAge = probFeature(Titanic, \"Age\", age, 5)\n",
    "_, binsFare = probFeature(Titanic, \"Fare\", fare, 5)\n",
    "\n",
    "pAgeGivenS = probFeatureDadoLabel(Titanic, \"Age\", age, \"Survived\", 1, binsAge)\n",
    "pAgeGivenS"
   ]
  },
  {
   "cell_type": "code",
   "execution_count": 407,
   "metadata": {},
   "outputs": [
    {
     "data": {
      "text/plain": [
       "array([[0.05313851, 0.00188121, 0.01072989, 0.00188121, 0.02536156],\n",
       "       [0.00468988, 0.01920074, 0.00976135, 0.01920074, 0.00294111]])"
      ]
     },
     "execution_count": 407,
     "metadata": {},
     "output_type": "execute_result"
    }
   ],
   "source": [
    "survived_list = [0,1]\n",
    "p_survived = []\n",
    "for survived in survived_list:\n",
    "    pAgeGivenS = probFeatureDadoLabel(Titanic, \"Age\", age, \"Survived\", survived, binsAge)\n",
    "    pFareGivenS = probFeatureDadoLabel(Titanic, \"Fare\", fare, \"Survived\", survived, binsFare)\n",
    "    pFemaleGivenS = probLabelDadoLabel(Titanic, \"Female\", female, \"Survived\", survived)\n",
    "    pSurvived = probLabel(Titanic, \"Survived\", survived)\n",
    "    p_survived.append( (pAgeGivenS * pFareGivenS * pFemaleGivenS) * pSurvived )\n",
    "\n",
    "p_survived = np.array(p_survived)\n",
    "#p_survived = p_survived / np.sum(p_survived)\n",
    "p_survived"
   ]
  },
  {
   "cell_type": "code",
   "execution_count": 408,
   "metadata": {},
   "outputs": [
    {
     "data": {
      "text/plain": [
       "array([0.05782839, 0.02108196, 0.02049124, 0.02108196, 0.02830268])"
      ]
     },
     "execution_count": 408,
     "metadata": {},
     "output_type": "execute_result"
    }
   ],
   "source": [
    "np.sum(p_survived, axis=0)"
   ]
  },
  {
   "cell_type": "code",
   "execution_count": 411,
   "metadata": {},
   "outputs": [
    {
     "data": {
      "text/plain": [
       "(array([0.08110004, 0.9107666 , 0.47636686, 0.9107666 , 0.10391647]),\n",
       " array([0., 1., 1., 1., 0.]))"
      ]
     },
     "execution_count": 411,
     "metadata": {},
     "output_type": "execute_result"
    }
   ],
   "source": [
    "# Comparar valores\n",
    "p_survived[1,:] / np.sum(p_survived, axis=0), Titanic.Survived.head().values"
   ]
  },
  {
   "cell_type": "markdown",
   "metadata": {},
   "source": [
    "***\n",
    "# Prueba con función para todas las features"
   ]
  },
  {
   "cell_type": "code",
   "execution_count": 493,
   "metadata": {},
   "outputs": [
    {
     "data": {
      "text/plain": [
       "(array([0., 1., 1., 1., 0.]), array([0., 1., 1., 1., 0.]))"
      ]
     },
     "execution_count": 493,
     "metadata": {},
     "output_type": "execute_result"
    }
   ],
   "source": [
    "age = Titanic.Age.head().values\n",
    "fare = Titanic.Fare.head().values\n",
    "\n",
    "# Rangos para age y fare\n",
    "_, binsAge = probFeature(Titanic, \"Age\", age, 5)\n",
    "_, binsFare = probFeature(Titanic, \"Fare\", fare, 5)\n",
    "\n",
    "BinaryFields = [\"Female\", \"Embarked_S\", \"Embarked_C\", \"Embarked_Q\", \n",
    "             \"Class_Lower\", \"Class_Middle\", \"Class_Upper\", \"Survived\"]\n",
    "\n",
    "survived_list = [0,1]\n",
    "p_survived = []\n",
    "for survived in survived_list:\n",
    "    pAgeGivenS = probFeatureDadoLabel(Titanic, \"Age\", age, \"Survived\", survived, binsAge)\n",
    "    pFareGivenS = probFeatureDadoLabel(Titanic, \"Fare\", fare, \"Survived\", survived, binsFare)\n",
    "    \n",
    "    pbinaryFeature = np.ones(len(Titanic.head().values))\n",
    "    for binaryFeature in BinaryFields:\n",
    "        pbinaryFeature = probLabelDadoLabel(Titanic, binaryFeature, Titanic[binaryFeature].head().values, \"Survived\", survived)\n",
    "    \n",
    "    pSurvived = probLabel(Titanic, \"Survived\", survived)\n",
    "    p_survived.append( (pAgeGivenS * pFareGivenS * pbinaryFeature) * pSurvived )\n",
    "    \n",
    "p_survived = np.array(p_survived)\n",
    "p_survived[1,:] / np.sum(p_survived, axis=0), Titanic.Survived.head().values"
   ]
  },
  {
   "cell_type": "code",
   "execution_count": 494,
   "metadata": {},
   "outputs": [
    {
     "data": {
      "text/plain": [
       "array([[0.06926173, 0.        , 0.        , ..., 0.04947267, 0.        ,\n",
       "        0.02833435],\n",
       "       [0.        , 0.02818307, 0.01432781, ..., 0.        , 0.03097906,\n",
       "        0.        ]])"
      ]
     },
     "execution_count": 494,
     "metadata": {},
     "output_type": "execute_result"
    }
   ],
   "source": [
    "age = Titanic.Age.values\n",
    "fare = Titanic.Fare.values\n",
    "\n",
    "# Rangos para age y fare\n",
    "_, binsAge = probFeature(Titanic, \"Age\", age, 5)\n",
    "_, binsFare = probFeature(Titanic, \"Fare\", fare, 5)\n",
    "\n",
    "BinaryFields = [\"Female\", \"Embarked_S\", \"Embarked_C\", \"Embarked_Q\", \n",
    "             \"Class_Lower\", \"Class_Middle\", \"Class_Upper\", \"Survived\"]\n",
    "\n",
    "#BinaryFields = [\"Female\"]\n",
    "\n",
    "survived_list = [0,1]\n",
    "p_survived = []\n",
    "for survived in survived_list:\n",
    "    pAgeGivenS = probFeatureDadoLabel(Titanic, \"Age\", age, \"Survived\", survived, binsAge)\n",
    "    pFareGivenS = probFeatureDadoLabel(Titanic, \"Fare\", fare, \"Survived\", survived, binsFare)\n",
    "    \n",
    "    pbinaryFeature = np.ones(len(Titanic.values))\n",
    "    for binaryFeature in BinaryFields:\n",
    "        pbinaryFeature = probLabelDadoLabel(Titanic, binaryFeature, Titanic[binaryFeature].values, \"Survived\", survived)\n",
    "    \n",
    "    pSurvived = probLabel(Titanic, \"Survived\", survived)\n",
    "    p_survived.append( (pAgeGivenS * pFareGivenS * pbinaryFeature) * pSurvived )\n",
    "    \n",
    "p_survived = np.array(p_survived)\n",
    "p_survived\n",
    "#p_survived[1,:] / np.sum(p_survived, axis=0), Titanic.Survived.values\n",
    "# Arreglo como columnas\n",
    "#np.column_stack((p_survived[1,:] / np.sum(p_survived, axis=0), Titanic.Survived.values))"
   ]
  },
  {
   "cell_type": "code",
   "execution_count": 499,
   "metadata": {},
   "outputs": [],
   "source": [
    "# Función para predecir utilizando Naïve Bayes con dataset Titanic\n",
    "def predecirNBTitanic(Titanic):\n",
    "    age = Titanic.Age.values\n",
    "    fare = Titanic.Fare.values\n",
    "\n",
    "    # Rangos para age y fare\n",
    "    _, binsAge = probFeature(Titanic, \"Age\", age, 5)\n",
    "    _, binsFare = probFeature(Titanic, \"Fare\", fare, 5)\n",
    "\n",
    "    BinaryFields = [\"Female\", \"Embarked_S\", \"Embarked_C\", \"Embarked_Q\", \n",
    "                 \"Class_Lower\", \"Class_Middle\", \"Class_Upper\", \"Survived\"]\n",
    "\n",
    "    survived_list = [0,1]\n",
    "    p_survived = []\n",
    "    for survived in survived_list:\n",
    "        pAgeGivenS = probFeatureDadoLabel(Titanic, \"Age\", age, \"Survived\", survived, binsAge)\n",
    "        pFareGivenS = probFeatureDadoLabel(Titanic, \"Fare\", fare, \"Survived\", survived, binsFare)\n",
    "\n",
    "        pbinaryFeature = np.ones(len(Titanic.values))\n",
    "        for binaryFeature in BinaryFields:\n",
    "            pbinaryFeature = probLabelDadoLabel(Titanic, binaryFeature, Titanic[binaryFeature].values, \"Survived\", survived)\n",
    "\n",
    "        pSurvived = probLabel(Titanic, \"Survived\", survived)\n",
    "        p_survived.append( (pAgeGivenS * pFareGivenS * pbinaryFeature) * pSurvived )\n",
    "\n",
    "    p_survived = np.array(p_survived)\n",
    "    p_survived_yes = p_survived[1,:] / np.sum(p_survived, axis=0)\n",
    "    return p_survived_yes"
   ]
  },
  {
   "cell_type": "code",
   "execution_count": 500,
   "metadata": {},
   "outputs": [
    {
     "data": {
      "text/plain": [
       "array([0., 1., 1., 1., 0., 0., 0., 0., 1., 1., 1., 1., 0., 0., 0., 1., 0.,\n",
       "       1., 0., 1., 0., 1., 1., 1., 0., 1., 0., 0., 1., 0., 0., 1., 1., 0.,\n",
       "       0., 0., 1., 0., 0., 1., 0., 0., 0., 1., 1., 0., 0., 1., 0., 0., 0.,\n",
       "       0., 1., 1., 0., 1., 1., 0., 1., 0., 0., 1., 0., 0., 0., 1., 1., 0.,\n",
       "       1., 0., 0., 0., 0., 0., 1., 0., 0., 0., 1., 1., 0., 1., 1., 0., 1.,\n",
       "       1., 0., 0., 1., 0., 0., 0., 0., 0., 0., 0., 0., 1., 1., 0., 0., 0.,\n",
       "       0., 0., 0., 0., 1., 1., 0., 1., 0., 0., 0., 0., 0., 0., 0., 0., 0.,\n",
       "       0., 0., 0., 0., 1., 0., 1., 0., 1., 1., 0., 0., 0., 0., 1., 0., 0.,\n",
       "       1., 0., 0., 0., 0., 1., 1., 0., 0., 0., 1., 0., 0., 0., 0., 1., 0.,\n",
       "       0., 0., 0., 1., 0., 0., 0., 0., 1., 0., 0., 0., 1., 1., 0., 0., 0.,\n",
       "       0., 0., 1., 0., 0., 0., 0., 0., 0., 0., 0., 0., 0., 1., 1., 0., 1.,\n",
       "       1., 0., 0., 1., 0., 1., 1., 1., 1., 0., 0., 1., 0., 0., 0., 0., 0.,\n",
       "       1., 0., 0., 1., 1., 1., 0., 1., 0., 0., 0., 1., 1., 0., 1., 0., 1.,\n",
       "       0., 0., 0., 1., 0., 1., 0., 0., 0., 1., 0., 0., 1., 0., 0., 0., 1.,\n",
       "       0., 0., 0., 1., 0., 0., 0., 0., 0., 1., 1., 0., 0., 0., 0., 0., 0.,\n",
       "       1., 1., 1., 1., 1., 0., 1., 0., 0., 0., 0., 0., 1., 1., 1., 0., 1.,\n",
       "       1., 0., 1., 1., 0., 0., 0., 1., 0., 0., 0., 1., 0., 0., 1., 0., 1.,\n",
       "       1., 1., 1., 0., 0., 0., 0., 0., 0., 1., 1., 1., 1., 0., 1., 0., 1.,\n",
       "       1., 1., 0., 1., 1., 1., 0., 0., 0., 1., 1., 0., 1., 1., 0., 0., 1.,\n",
       "       1., 0., 1., 0., 1., 1., 1., 1., 0., 0., 0., 1., 0., 0., 1., 1., 0.,\n",
       "       1., 1., 0., 0., 0., 1., 1., 1., 1., 0., 0., 0., 0., 0., 0., 0., 1.,\n",
       "       0., 1., 1., 0., 0., 0., 0., 0., 0., 1., 1., 1., 1., 1., 0., 0., 0.,\n",
       "       0., 1., 1., 0., 0., 0., 1., 1., 0., 1., 0., 0., 0., 1., 0., 1., 1.,\n",
       "       1., 0., 1., 1., 0., 0., 0., 0., 1., 1., 0., 0., 0., 0., 0., 0., 1.,\n",
       "       0., 0., 0., 0., 1., 0., 1., 0., 1., 1., 0., 0., 0., 0., 0., 0., 0.,\n",
       "       0., 1., 1., 0., 1., 1., 1., 1., 0., 0., 1., 0., 1., 0., 0., 1., 0.,\n",
       "       0., 1., 1., 1., 1., 1., 1., 1., 0., 0., 0., 1., 0., 1., 0., 1., 1.,\n",
       "       0., 1., 0., 0., 0., 0., 0., 0., 0., 0., 1., 0., 0., 1., 1., 0., 0.,\n",
       "       0., 0., 0., 1., 0., 0., 0., 1., 1., 0., 1., 0., 0., 1., 0., 0., 0.,\n",
       "       0., 0., 0., 1., 0., 0., 0., 0., 0., 0., 0., 1., 0., 1., 1., 0., 1.,\n",
       "       1., 0., 1., 1., 0., 0., 1., 0., 1., 0., 1., 0., 0., 1., 0., 0., 1.,\n",
       "       0., 0., 0., 1., 0., 0., 1., 0., 1., 0., 1., 0., 1., 1., 0., 0., 1.,\n",
       "       0., 0., 1., 1., 0., 1., 1., 0., 0., 1., 1., 0., 1., 0., 1., 1., 0.,\n",
       "       0., 0., 0., 0., 0., 0., 0., 0., 1., 1., 1., 1., 1., 0., 0., 1., 1.,\n",
       "       0., 1., 1., 1., 0., 0., 0., 1., 0., 1., 0., 0., 0., 1., 0., 0., 0.,\n",
       "       0., 1., 0., 0., 1., 1., 0., 0., 0., 1., 0., 0., 1., 1., 1., 0., 0.,\n",
       "       1., 0., 0., 1., 0., 0., 1., 0., 0., 1., 1., 0., 0., 0., 0., 1., 0.,\n",
       "       0., 1., 0., 1., 0., 0., 1., 0., 0., 0., 0., 0., 1., 0., 1., 1., 1.,\n",
       "       0., 1., 0., 1., 0., 1., 0., 1., 0., 0., 0., 0., 0., 0., 1., 0., 0.,\n",
       "       0., 1., 0., 0., 0., 0., 1., 1., 0., 0., 1., 0., 0., 0., 1., 0., 1.,\n",
       "       0., 1., 0., 0., 0., 0., 0., 0., 0., 1., 1., 1., 1., 0., 0., 0., 0.,\n",
       "       1., 0., 0., 1., 1., 0., 0., 0., 0., 1., 1., 1., 1., 1., 0., 1., 0.,\n",
       "       0., 0., 1., 1., 0., 0., 1., 0., 0., 0., 1., 0., 1., 1., 0., 0., 1.,\n",
       "       0., 0., 0., 0., 0., 0., 1., 0., 0., 1., 0., 1., 0., 1., 0., 0., 1.,\n",
       "       0., 0., 1., 1., 0., 0., 1., 1., 0., 0., 0., 1., 0., 0., 1., 1., 0.,\n",
       "       1., 0., 0., 0., 0., 0., 0., 0., 0., 1., 0., 0., 1., 0., 1., 1., 1.,\n",
       "       0., 0., 0., 0., 1., 0., 1., 0., 0., 0., 0., 0., 0., 0., 1., 1., 0.,\n",
       "       0., 0., 1., 1., 1., 1., 0., 0., 0., 0., 1., 0., 0., 0., 0., 0., 0.,\n",
       "       0., 0., 0., 0., 1., 1., 0., 1., 0., 0., 0., 1., 1., 1., 1., 1., 0.,\n",
       "       0., 0., 1., 0., 0., 1., 1., 0., 0., 1., 0., 0., 0., 0., 0., 0., 1.,\n",
       "       0., 0., 0., 1., 0., 1., 1., 1., 1., 0., 0., 0., 1., 0., 0., 1., 1.,\n",
       "       0., 0., 1., 0., 1., 0., 0., 1., 1., 0., 0., 0., 1., 1., 0., 0., 0.,\n",
       "       0., 0., 0., 1., 0., 1., 0.])"
      ]
     },
     "execution_count": 500,
     "metadata": {},
     "output_type": "execute_result"
    }
   ],
   "source": [
    "predecirNBTitanic(Titanic)"
   ]
  },
  {
   "cell_type": "code",
   "execution_count": null,
   "metadata": {},
   "outputs": [],
   "source": []
  },
  {
   "cell_type": "code",
   "execution_count": null,
   "metadata": {},
   "outputs": [],
   "source": []
  }
 ],
 "metadata": {
  "kernelspec": {
   "display_name": "Python 3",
   "language": "python",
   "name": "python3"
  },
  "language_info": {
   "codemirror_mode": {
    "name": "ipython",
    "version": 3
   },
   "file_extension": ".py",
   "mimetype": "text/x-python",
   "name": "python",
   "nbconvert_exporter": "python",
   "pygments_lexer": "ipython3",
   "version": "3.7.2"
  }
 },
 "nbformat": 4,
 "nbformat_minor": 2
}
